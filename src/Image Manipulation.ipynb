{
 "cells": [
  {
   "cell_type": "code",
   "execution_count": 1,
   "metadata": {},
   "outputs": [],
   "source": [
    "import cv2\n",
    "import numpy as np\n",
    "import pandas as pd\n",
    "import random\n",
    "import sys\n",
    "from collections import defaultdict"
   ]
  },
  {
   "cell_type": "code",
   "execution_count": 2,
   "metadata": {},
   "outputs": [],
   "source": [
    "img = cv2.imread('image.jpg') "
   ]
  },
  {
   "cell_type": "code",
   "execution_count": 4,
   "metadata": {
    "scrolled": true
   },
   "outputs": [
    {
     "data": {
      "text/plain": [
       "array([[212, 167, 129],\n",
       "       [213, 168, 130],\n",
       "       [213, 169, 128],\n",
       "       ...,\n",
       "       [204, 235, 238],\n",
       "       [193, 226, 222],\n",
       "       [156, 190, 184]])"
      ]
     },
     "execution_count": 4,
     "metadata": {},
     "output_type": "execute_result"
    }
   ],
   "source": [
    "pixel_values = img.reshape((-1, 3))\n",
    "pixel_values = np.array(pixel_values, dtype='int64')"
   ]
  },
  {
   "cell_type": "code",
   "execution_count": null,
   "metadata": {},
   "outputs": [],
   "source": [
    "# K-means++ Algorithm\n",
    "\n",
    "def distance(a, b):\n",
    "    \"\"\"\n",
    "    Returns the Euclidean distance between a, b\n",
    "    \"\"\"\n",
    "    return sum([(a - b) ** 2 for a, b in zip(a, b)]) ** 0.5\n",
    "\n",
    "def distance_squared(a, b):\n",
    "    \"\"\"\n",
    "    Returns the squared distance between a, b\n",
    "    \"\"\"\n",
    "    return distance(a, b) ** 2\n",
    "\n",
    "def generate_k_pp(dataset, k):\n",
    "    \"\"\"\n",
    "    Given `data_set`, which is an array of arrays,\n",
    "    return a random set of k points from the data_set\n",
    "    \"\"\"\n",
    "    center = random.choice(dataset)\n",
    "    k_points = [center]\n",
    "\n",
    "    while len(k_points) < k:\n",
    "        prob = []\n",
    "        for point in dataset:\n",
    "            prob.append(distance_squared(center, point))\n",
    "        \n",
    "        prob = [p/sum(prob) for p in prob]\n",
    "        center = random.choices(dataset, prob)[0]\n",
    "\n",
    "        k_points.append(center)\n",
    "\n",
    "    return k_points\n",
    "\n",
    "def point_avg(points):\n",
    "    \"\"\"\n",
    "    Accepts a list of points, each with the same number of dimensions.   \n",
    "    Returns a new point which is the center of all the points.\n",
    "    \"\"\"\n",
    "    n = len(points)\n",
    "    if n != 0:\n",
    "        x = sum([p[0] for p in points]) / n\n",
    "        y = sum([p[1] for p in points]) / n\n",
    "        z = sum([p[2] for p in points]) / n\n",
    "    return [x, y, z]\n",
    "\n",
    "def update_centers(dataset, assignments):\n",
    "    \"\"\"\n",
    "    Accepts a dataset and a list of assignments.\n",
    "    Computes the center for each of the assigned groups.\n",
    "    Returns `k` centers in a list.\n",
    "    \"\"\"\n",
    "    k = max(assignments) + 1\n",
    "    clusters = [[] for i in range(k)]\n",
    "    for pointIndex, pointAssignment in enumerate(assignments):\n",
    "        clusters[pointAssignment].append(dataset[pointIndex])\n",
    "\n",
    "    new_centers = []\n",
    "    for cluster in clusters:\n",
    "        new_centers.append(point_avg(cluster))\n",
    "\n",
    "    return new_centers\n",
    "\n",
    "def assign_points(data_points, centers):\n",
    "    \"\"\"\n",
    "    Accepts a list of data_points and centers.\n",
    "    Returns the names of the clusters that each data point belongs to\n",
    "    \"\"\"\n",
    "    assignments = []\n",
    "    for point in data_points:\n",
    "        shortest = sys.maxsize  # positive infinity\n",
    "        shortest_index = 0\n",
    "        for i in range(len(centers)):\n",
    "            val = distance(point, centers[i])\n",
    "            if val < shortest:\n",
    "                shortest = val\n",
    "                shortest_index = i\n",
    "        assignments.append(shortest_index)\n",
    "    return assignments\n",
    "\n",
    "def lloyds_algo(dataset, k_points):\n",
    "    \"\"\"\n",
    "    Accepts a dataset and initial k points as centers.\n",
    "    Repeat the algorithm until convergence.\n",
    "    Returns the final clusters.\n",
    "    \"\"\"\n",
    "    assignments = assign_points(dataset, k_points)\n",
    "    old_assignments = None\n",
    "    while assignments != old_assignments:\n",
    "        new_centers = update_centers(dataset, assignments)\n",
    "        old_assignments = assignments\n",
    "        assignments = assign_points(dataset, new_centers)\n",
    "    clustering = defaultdict(list)\n",
    "    for assignment, point in zip(assignments, dataset):\n",
    "        clustering[assignment].append(point)\n",
    "    return clustering\n",
    "\n",
    "def k_means_pp(dataset, k):\n",
    "    \"\"\"\n",
    "    Runs k-means++ clustering algorithm\n",
    "    \"\"\"\n",
    "    if k not in range(1, len(dataset)+1):\n",
    "        raise ValueError(\"lengths must be in [1, len(dataset)]\")\n",
    "\n",
    "    k_points = generate_k_pp(dataset, k)\n",
    "    return lloyds_algo(dataset, k_points)"
   ]
  },
  {
   "cell_type": "code",
   "execution_count": null,
   "metadata": {},
   "outputs": [],
   "source": [
    "# run the kmeans++ algorithm to find clusters\n",
    "clustering = k_means_pp(pixel_values, 2)"
   ]
  },
  {
   "cell_type": "code",
   "execution_count": null,
   "metadata": {},
   "outputs": [],
   "source": [
    "# replace the pixels with the value of their cluster center\n",
    "centers = []\n",
    "for idx in clustering:\n",
    "    center = point_avg(clustering[idx])\n",
    "    centers.append(center)\n",
    "\n",
    "for idx in clustering:\n",
    "    for value in clustering[idx]:\n",
    "        value = centers[idx]\n",
    "    \n",
    "manipulated_img = clustering\n",
    "manipulated_img = manipulated_img.reshape(image.shape)"
   ]
  },
  {
   "cell_type": "code",
   "execution_count": null,
   "metadata": {},
   "outputs": [],
   "source": [
    "# show the manipulated image\n",
    "cv2.imshow(‘Display Window’, manipulated_img) \n",
    "cv2.waitKey(0)\n",
    "cv2.destroyAllWindows()"
   ]
  }
 ],
 "metadata": {
  "kernelspec": {
   "display_name": "Python 3",
   "language": "python",
   "name": "python3"
  },
  "language_info": {
   "codemirror_mode": {
    "name": "ipython",
    "version": 3
   },
   "file_extension": ".py",
   "mimetype": "text/x-python",
   "name": "python",
   "nbconvert_exporter": "python",
   "pygments_lexer": "ipython3",
   "version": "3.7.6"
  }
 },
 "nbformat": 4,
 "nbformat_minor": 4
}
